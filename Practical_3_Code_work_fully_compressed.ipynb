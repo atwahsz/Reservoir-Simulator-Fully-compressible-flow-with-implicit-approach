{
 "cells": [
  {
   "cell_type": "code",
   "execution_count": 1,
   "id": "34b5bf55",
   "metadata": {},
   "outputs": [],
   "source": [
    "import numpy as np\n",
    "import matplotlib.pyplot as plt\n",
    "import seaborn as sns\n",
    "sns.set()\n",
    "sns.set(rc={'figure.figsize':(11.7,8)})\n",
    "sns.set_context(\"notebook\", font_scale=2, rc={\"lines.linewidth\": 3})"
   ]
  },
  {
   "cell_type": "code",
   "execution_count": 2,
   "id": "738d69cb",
   "metadata": {},
   "outputs": [],
   "source": [
    "def ComputeDensity(rho_0, cf, p,P_0):\n",
    "    rho = rho_0 * np.exp(cf*(p-P_0))\n",
    "    drhodp = cf * rho                        \n",
    "    return rho, drhodp\n",
    "\n",
    "\n",
    "\n",
    "\n",
    "def ComputePorosity(phi_0, cr, p,P_0):\n",
    "    phi = phi_0 * np.exp(cr*(p-P_0))\n",
    "    dphidp = cr * phi                            \n",
    "    \n",
    "    return phi, dphidp\n",
    "\n",
    "\n",
    "\n",
    "\n",
    "\n",
    "def ComputeTransmissibility(Nx,dx,dA,Lambda,rho): \n",
    "    Tx = np.zeros(Nx+1)\n",
    "    Lambda_rho = Lambda*rho\n",
    "    for i in range(1,Nx):\n",
    "        LambdaH_rho_H = 2*Lambda_rho[i-1]*Lambda_rho[i]/(Lambda_rho[i-1]+Lambda_rho[i]) \n",
    "        Tx[i] = LambdaH_rho_H*dA/(dx) #dV*LambdaH/(dx**2) \n",
    "    Tx[0] = Lambda_rho[0] *dA /(dx/2) \n",
    "    Tx[Nx] = Lambda_rho[Nx-1]*dA /(dx/2) \n",
    "    return Tx \n",
    "\n",
    "\n",
    "\n",
    "def ConstructA(Nx,Tx):\n",
    "    A = np.zeros([Nx,Nx])\n",
    "    for i in range(0,Nx): \n",
    "        # Left Neighbor \n",
    "        if i > 0:\n",
    "            A[i,i-1] = -Tx[i] \n",
    "            A[i,i] = A[i,i] + Tx[i] \n",
    "        # Right Neighbor \n",
    "        if i < Nx-1:\n",
    "            A[i,i+1] = -Tx[i+1] \n",
    "            A[i,i] = A[i,i] + Tx[i+1] \n",
    "    return A\n",
    "\n",
    "\n",
    "\n",
    "\n",
    "def ComputeWellFluxes(Well,Lambda,dV,p,Nx):\n",
    "    q = np.zeros(Nx)\n",
    "    for w in range(0,len(Well[\"Pwell\"])):\n",
    "        # q = WI.Lambda[i].(Pwell-p[i]).dV\n",
    "        i = Well[\"Cell\"][w]\n",
    "        q[i] = Well[\"WI\"][w] * Lambda[i] * (Well[\"Pwell\"][w] - p[i]) * dV \n",
    "    return q "
   ]
  },
  {
   "cell_type": "code",
   "execution_count": 3,
   "id": "3de10e25",
   "metadata": {},
   "outputs": [],
   "source": [
    "def Index2D(Nx, Ny, j, i):\n",
    "    return Nx*j + i\n",
    "\n",
    "def ComputeDensity2D(rho_0, cf, p,P_0):\n",
    "    rho = rho_0 * np.exp(cf*(p-P_0))\n",
    "    drhodp = cf * rho                        \n",
    "    return rho, drhodp\n",
    "\n",
    "def ComputePorosity2D(phi_0, cr, p,P_0):\n",
    "    phi = phi_0 * np.exp(cr*(p-P_0))\n",
    "    dphidp = cr * phi                            \n",
    "    \n",
    "    return phi, dphidp\n",
    "\n",
    "def ComputeTransmissibility2D(Nx,Ny,dx,dy,dAx,dAy,Lambda,rho):\n",
    "    Ty = np.zeros([Ny+1,Nx])\n",
    "    Tx = np.zeros([Ny,Nx+1])\n",
    "    \n",
    "    Lambda_rho = Lambda * rho\n",
    "    \n",
    "    ## Tx-direction\n",
    "    for i in range(1,Nx):       \n",
    "        for j in range(0,Ny):   \n",
    "            IW = Index2D(Nx,Ny,j,i-1)  \n",
    "            IE = Index2D(Nx,Ny,j  ,i)  \n",
    "            Lambda_rho_H = (2*Lambda_rho[IW]*Lambda_rho[IE])/(Lambda_rho[IW]+Lambda_rho[IE])\n",
    "            Tx[j,i] = (dAx * Lambda_rho_H) / dx\n",
    "\n",
    "    # East & West Boundry\n",
    "    for j in range(0,Ny):\n",
    "        # West Boundary\n",
    "        i = 0\n",
    "        I = Index2D(Nx,Ny,j,i)\n",
    "        Lambda_rho_H = Lambda_rho[I]\n",
    "        Tx[j,i] = dAx * Lambda_rho_H / (dx/2)\n",
    "        # East Boundary\n",
    "        i = Nx\n",
    "        I = Index2D(Nx,Ny,j,i-1)\n",
    "        Lambda_rho_H = Lambda_rho[I]\n",
    "        Tx[j,i] = dAx * Lambda_rho_H / (dx/2)\n",
    "        \n",
    "    ## Ty-direction\n",
    "    for i in range(0,Nx):      \n",
    "        for j in range(1,Ny):  \n",
    "            IS = Index2D(Nx,Ny,j-1,i)   \n",
    "            IN = Index2D(Nx,Ny,j  ,i)  \n",
    "            Lambda_rho_H = (2*Lambda_rho[IS]*Lambda_rho[IN])/(Lambda_rho[IS]+Lambda_rho[IN])\n",
    "            Ty[j,i] = dAy * Lambda_rho_H / dx\n",
    "    # For the boundary at north & south\n",
    "    for i in range(0,Nx):\n",
    "        # South Boundary\n",
    "        j = 0\n",
    "        I = Index2D(Ny,Nx,j,i)\n",
    "        Lambda_rho_H = Lambda_rho[I]\n",
    "        Ty[j,i] = dAy * Lambda_rho_H / (dy/2)\n",
    "        # North Boundary\n",
    "        j = Ny\n",
    "        I = Index2D(Ny,Nx,j-1,i)\n",
    "        Lambda_rho_H = Lambda_rho[I]\n",
    "        Ty[j,i] = dAy * Lambda_rho_H / (dy/2)\n",
    "    \n",
    "    return Ty, Tx       \n",
    "def ConstructA2D(Nx,Ny,Ty,Tx):\n",
    "    A = np.zeros([ Ny*Nx , Ny*Nx ])\n",
    "    \n",
    "    for i in range(0,Nx):\n",
    "        for j in range(0,Ny):\n",
    "            IM = Index2D(Ny,Nx,j  ,i  )\n",
    "            if i > 0:\n",
    "                IW = Index2D(Ny,Nx,j,i-1)\n",
    "                A[IW, IM] =  -Tx[j,i]\n",
    "                A[IM, IM  ] = A[IM,IM] + Tx[j,i]\n",
    "            if i < Nx-1:\n",
    "                IE = Index2D(Ny,Nx,j,i+1)\n",
    "                A[IE, IM] =  -Tx[j,i+1]\n",
    "                A[IM, IM  ] = A[IM,IM] + Tx[j,i+1]\n",
    "            if j > 0:\n",
    "                IS = Index2D(Ny,Nx,j-1,i)\n",
    "                A[IS, IM] =  -Ty[j,i]\n",
    "                A[IM, IM  ] = A[IM,IM] + Ty[j,i]\n",
    "            if j < Ny-1:\n",
    "                IN = Index2D(Ny,Nx,j+1,i)\n",
    "                A[IN, IM] =  -Ty[j+1,i]\n",
    "                A[IM, IM  ] = A[IM,IM] + Ty[j+1,i]\n",
    "    return A\n",
    "\n",
    "def ComputeWellFluxes2D(Ny, Nx , Well,Lambda, dV, p):\n",
    "    q = np.zeros(Ny*Nx)\n",
    "    for w in range(len(Well[\"Pwell\"])):\n",
    "        j = Well[\"Cell\"][0,w]\n",
    "        i = Well[\"Cell\"][1,w]\n",
    "        I = Index2D(Nx,Ny,j,i)\n",
    "        q[I] = Well[\"WI\"][w] * Lambda[I] * (Well[\"Pwell\"][w] - p[I]) * dV\n",
    "\n",
    "    return q    "
   ]
  },
  {
   "cell_type": "markdown",
   "id": "75a67236",
   "metadata": {},
   "source": [
    "# 1D"
   ]
  },
  {
   "cell_type": "code",
   "execution_count": null,
   "id": "0fcf7e59",
   "metadata": {},
   "outputs": [],
   "source": [
    "Lx = 1.0 # length of the system\n",
    "Nx = 30  # number of cells\n",
    "cf = 0.1 # compressibility of the fluid \n",
    "cr = 0.5 #compressibility of the rock\n",
    "P_0 = 0  # initial pressure\n",
    "rho_0 = 1 # initial density of the fluid \n",
    "phi_0 = 0.2 # initial rock porosity\n",
    "# Well input\n",
    "Well = {\"Cell\" : [0   , Nx-1],\n",
    "        \"WI\"   : [1000, 1000],\n",
    "        \"Pwell\": [2   ,    0]}\n",
    " \n",
    "dx = Lx / Nx                       # The length of each grid cell\n",
    "dA = 1.0                           # The cross-sectional area\n",
    "dV = dx * dA                       # The volume of each grid cell\n",
    "xc = np.linspace(dx/2, Lx-dx/2, Nx)\n",
    " \n",
    " \n",
    "#Time settings\n",
    "\n",
    "Nt = 2500                            # Number of time-steps\n",
    "dt = 1e-5                         # Size of the time-step\n",
    " \n",
    " \n",
    "# Mobility (lambda)\n",
    "Lambda = np.ones(Nx)\n",
    "# Lambda[13:16]=0.001 #hetro\n",
    "\n",
    "## Initialization\n",
    "p = P_0 * np.ones(Nx)                                # Initial pressure\n",
    "rho,drhodp = ComputeDensity(rho_0,cf,p,P_0)          # Compute density and its derivative\n",
    "phi,dphidp = ComputePorosity(phi_0,cr,p,P_0)         # Compute porosity and its derivative\n",
    "Tx = ComputeTransmissibility(Nx,dx,dA,Lambda,rho)    # Compute transmissiblities\n",
    "A = ConstructA(Nx,Tx)                                # Construct the coefficient matrix (A)\n",
    "q = ComputeWellFluxes(Well,Lambda,dV,p,Nx)           # Compute volumetric well fluxes\n",
    " \n",
    " \n",
    "# Plotting the pressure\n",
    "\n",
    "\n",
    " \n",
    " \n",
    "##Entering the time loop\n",
    "\n",
    "for t in range(0,Nt):\n",
    "    Converged = 0\n",
    "    Iter = 0\n",
    "    rho_n = rho\n",
    "    phi_n = phi\n",
    "    \n",
    "    # Entering iteration loop\n",
    "    while Converged == 0:\n",
    "        Iter = Iter + 1\n",
    "        \n",
    "        # Computing the compressibility (Psi)\n",
    "        Psi = (dV/dt) * (rho*phi - rho_n*phi_n)\n",
    "        \n",
    "        ## Compute residual (q,Psi,Ap)\n",
    "        Residual = rho*q - Psi - A@p\n",
    "        \n",
    "        ## Compute Jacobian (W,C,A)\n",
    "        \n",
    "        # W = d(rho.q)/dp = [dq/dp*rho] + [q*drho/dp]\n",
    "        # For now, we neglect [q*drho/dp] !!!\n",
    "        drho_q_dp = np.zeros(Nx)\n",
    "        for w in range(0,len(Well[\"Pwell\"])):\n",
    "            i = Well[\"Cell\"][w]\n",
    "            drho_q_dp[i] = - rho[i] * Well[\"WI\"][w] * Lambda[i] * dV\n",
    "        W = np.diag(drho_q_dp)\n",
    "        \n",
    "        # C = d(Psi)/dp\n",
    "        d_Psi_dp = (dV/dt) * ( drhodp*phi + rho*dphidp )\n",
    "        C = np.diag(d_Psi_dp)\n",
    "        \n",
    "        Jacobian = W - C - A\n",
    "        \n",
    "        # Solve the linearized system (delta_p = J\\-R)\n",
    "        delta_p = np.linalg.solve(Jacobian,-Residual)\n",
    "        \n",
    "        # Update the pressure (p_new = p_old + delta_p)\n",
    "        p = p + delta_p\n",
    "        \n",
    "        # Update the entire system\n",
    "        rho,drhodp = ComputeDensity(rho_0,cf,p,P_0)\n",
    "        phi,dphidp = ComputePorosity(phi_0,cr,p,P_0)\n",
    "        Tx = ComputeTransmissibility(Nx,dx,dA,Lambda,rho)\n",
    "        A = ConstructA(Nx,Tx)\n",
    "        q = ComputeWellFluxes(Well,Lambda,dV,p,Nx)\n",
    "        \n",
    "        # Re-compute residual\n",
    "        Psi = (dV/dt) * (rho*phi - rho_n*phi_n)\n",
    "        Residual = rho*q - Psi - A@p\n",
    "        \n",
    "        \n",
    "        # if convergence has happened -> out of the iteration loop\n",
    "        # if not, go up and do all this again\n",
    "        if np.linalg.norm(Residual) < 1e-6:\n",
    "            Converged = 1\n",
    "            \n",
    "    # end of iteration loop\n",
    "    \n",
    "    # print('Time-step', t, ', # of iterations:', Iter)\n",
    "    plt.plot(xc,p)\n",
    "# end of time loop\n",
    "plt.title('Pressure vs X') \n",
    "plt.ylabel('Pressure [Pa]')\n",
    "plt.xlabel('X [m]')        \n",
    "plt.show()"
   ]
  },
  {
   "cell_type": "markdown",
   "id": "f51b8674",
   "metadata": {},
   "source": [
    "# 2D"
   ]
  },
  {
   "cell_type": "code",
   "execution_count": 9,
   "id": "f48883fb",
   "metadata": {},
   "outputs": [
    {
     "data": {
      "application/vnd.plotly.v1+json": {
       "config": {
        "plotlyServerURL": "https://plot.ly"
       },
       "data": [
        {
         "colorscale": [
          [
           0,
           "rgb(103,0,31)"
          ],
          [
           0.1,
           "rgb(178,24,43)"
          ],
          [
           0.2,
           "rgb(214,96,77)"
          ],
          [
           0.3,
           "rgb(244,165,130)"
          ],
          [
           0.4,
           "rgb(253,219,199)"
          ],
          [
           0.5,
           "rgb(247,247,247)"
          ],
          [
           0.6,
           "rgb(209,229,240)"
          ],
          [
           0.7,
           "rgb(146,197,222)"
          ],
          [
           0.8,
           "rgb(67,147,195)"
          ],
          [
           0.9,
           "rgb(33,102,172)"
          ],
          [
           1,
           "rgb(5,48,97)"
          ]
         ],
         "reversescale": true,
         "type": "surface",
         "x": [
          [
           0.05,
           0.15,
           0.25,
           0.35,
           0.44999999999999996,
           0.5499999999999999,
           0.65,
           0.75,
           0.85,
           0.95
          ],
          [
           0.05,
           0.15,
           0.25,
           0.35,
           0.44999999999999996,
           0.5499999999999999,
           0.65,
           0.75,
           0.85,
           0.95
          ],
          [
           0.05,
           0.15,
           0.25,
           0.35,
           0.44999999999999996,
           0.5499999999999999,
           0.65,
           0.75,
           0.85,
           0.95
          ],
          [
           0.05,
           0.15,
           0.25,
           0.35,
           0.44999999999999996,
           0.5499999999999999,
           0.65,
           0.75,
           0.85,
           0.95
          ],
          [
           0.05,
           0.15,
           0.25,
           0.35,
           0.44999999999999996,
           0.5499999999999999,
           0.65,
           0.75,
           0.85,
           0.95
          ],
          [
           0.05,
           0.15,
           0.25,
           0.35,
           0.44999999999999996,
           0.5499999999999999,
           0.65,
           0.75,
           0.85,
           0.95
          ],
          [
           0.05,
           0.15,
           0.25,
           0.35,
           0.44999999999999996,
           0.5499999999999999,
           0.65,
           0.75,
           0.85,
           0.95
          ],
          [
           0.05,
           0.15,
           0.25,
           0.35,
           0.44999999999999996,
           0.5499999999999999,
           0.65,
           0.75,
           0.85,
           0.95
          ],
          [
           0.05,
           0.15,
           0.25,
           0.35,
           0.44999999999999996,
           0.5499999999999999,
           0.65,
           0.75,
           0.85,
           0.95
          ],
          [
           0.05,
           0.15,
           0.25,
           0.35,
           0.44999999999999996,
           0.5499999999999999,
           0.65,
           0.75,
           0.85,
           0.95
          ]
         ],
         "y": [
          [
           0.05,
           0.05,
           0.05,
           0.05,
           0.05,
           0.05,
           0.05,
           0.05,
           0.05,
           0.05
          ],
          [
           0.15,
           0.15,
           0.15,
           0.15,
           0.15,
           0.15,
           0.15,
           0.15,
           0.15,
           0.15
          ],
          [
           0.25,
           0.25,
           0.25,
           0.25,
           0.25,
           0.25,
           0.25,
           0.25,
           0.25,
           0.25
          ],
          [
           0.35,
           0.35,
           0.35,
           0.35,
           0.35,
           0.35,
           0.35,
           0.35,
           0.35,
           0.35
          ],
          [
           0.44999999999999996,
           0.44999999999999996,
           0.44999999999999996,
           0.44999999999999996,
           0.44999999999999996,
           0.44999999999999996,
           0.44999999999999996,
           0.44999999999999996,
           0.44999999999999996,
           0.44999999999999996
          ],
          [
           0.5499999999999999,
           0.5499999999999999,
           0.5499999999999999,
           0.5499999999999999,
           0.5499999999999999,
           0.5499999999999999,
           0.5499999999999999,
           0.5499999999999999,
           0.5499999999999999,
           0.5499999999999999
          ],
          [
           0.65,
           0.65,
           0.65,
           0.65,
           0.65,
           0.65,
           0.65,
           0.65,
           0.65,
           0.65
          ],
          [
           0.75,
           0.75,
           0.75,
           0.75,
           0.75,
           0.75,
           0.75,
           0.75,
           0.75,
           0.75
          ],
          [
           0.85,
           0.85,
           0.85,
           0.85,
           0.85,
           0.85,
           0.85,
           0.85,
           0.85,
           0.85
          ],
          [
           0.95,
           0.95,
           0.95,
           0.95,
           0.95,
           0.95,
           0.95,
           0.95,
           0.95,
           0.95
          ]
         ],
         "z": [
          [
           1.928260470920501,
           1.575352952605886,
           1.2553182262866462,
           1.1091596450636914,
           0.9816094064848917,
           0.8703235699369783,
           0.8355637375707516,
           0.8130269173236452,
           0.8059686518385555,
           0.8050385730219242
          ],
          [
           1.6721858642734972,
           0.80471895621705,
           1.1047912689238435,
           1.0845194103622788,
           0.80471895621705,
           0.8342753556916237,
           0.8197752646510003,
           0.8096721811534144,
           0.8054607496874511,
           0.8043735799500535
          ],
          [
           1.259282997444147,
           1.0463611974450786,
           1.011831960331146,
           0.80471895621705,
           0.8136298470458065,
           0.8133847026845654,
           0.8099918291716949,
           0.8060978887599941,
           0.8022200115859784,
           0.8010567239036063
          ],
          [
           0.9874629196172269,
           0.9337340216870452,
           0.9074349512896558,
           0.8405742662793799,
           0.8194106282019513,
           0.8104116024107002,
           0.8071979162077343,
           0.80282800104782,
           0.7967917192415449,
           0.7934802436616147
          ],
          [
           0.8775482629909584,
           0.8663262895079493,
           0.80471895621705,
           0.8243715270678955,
           0.8172411096468772,
           0.8063619399428562,
           0.802142310769681,
           0.798428966042924,
           0.7832409102242668,
           0.7767683823798825
          ],
          [
           0.8396665681884292,
           0.8359438700032611,
           0.8194805716702743,
           0.8135229383944609,
           0.80471895621705,
           0.7955084676091462,
           0.792318651482537,
           0.80471895621705,
           0.7512393992835673,
           0.7451388530884607
          ],
          [
           0.8211743951634646,
           0.8209566166605925,
           0.80471895621705,
           0.8039662823119698,
           0.7958963480934977,
           0.7890084874169812,
           0.7760692601901379,
           0.7346482808518765,
           0.7166997040768195,
           0.6890013893073779
          ],
          [
           0.8139823932396932,
           0.8127061107237399,
           0.8066247992384845,
           0.800645555656079,
           0.789119531114012,
           0.7820424367885199,
           0.7609835804888408,
           0.6733211735798563,
           0.6098457554005451,
           0.5341798164215174
          ],
          [
           0.8102445816013116,
           0.8066709351320998,
           0.8007286157142438,
           0.7954504734638241,
           0.783986759998559,
           0.7727507504423562,
           0.80471895621705,
           0.5457283746884054,
           0.4570510864363261,
           0.35817950542541055
          ],
          [
           0.8064159925340018,
           0.80471895621705,
           0.7931949278913418,
           0.7847387043561549,
           0.7652422500320514,
           0.7263666849381062,
           0.6578438451759843,
           0.5533650675688314,
           0.37575377845301716,
           0.06184067094889319
          ]
         ]
        }
       ],
       "layout": {
        "autosize": true,
        "font": {
         "color": "black",
         "family": "Courier New, monospace",
         "size": 15
        },
        "height": 800,
        "legend": {
         "title": {
          "font": {
           "color": "green"
          }
         }
        },
        "margin": {
         "b": 65,
         "l": 65,
         "r": 50,
         "t": 90
        },
        "scene": {
         "aspectratio": {
          "x": 1,
          "y": 1,
          "z": 1
         },
         "xaxis": {
          "nticks": 10,
          "title": {
           "text": "X-coordinates [m]"
          }
         },
         "yaxis": {
          "title": {
           "text": "Y-coordinates [m]"
          }
         },
         "zaxis": {
          "nticks": 5,
          "title": {
           "text": "Pressure"
          }
         }
        },
        "template": {
         "data": {
          "bar": [
           {
            "error_x": {
             "color": "#2a3f5f"
            },
            "error_y": {
             "color": "#2a3f5f"
            },
            "marker": {
             "line": {
              "color": "#E5ECF6",
              "width": 0.5
             },
             "pattern": {
              "fillmode": "overlay",
              "size": 10,
              "solidity": 0.2
             }
            },
            "type": "bar"
           }
          ],
          "barpolar": [
           {
            "marker": {
             "line": {
              "color": "#E5ECF6",
              "width": 0.5
             },
             "pattern": {
              "fillmode": "overlay",
              "size": 10,
              "solidity": 0.2
             }
            },
            "type": "barpolar"
           }
          ],
          "carpet": [
           {
            "aaxis": {
             "endlinecolor": "#2a3f5f",
             "gridcolor": "white",
             "linecolor": "white",
             "minorgridcolor": "white",
             "startlinecolor": "#2a3f5f"
            },
            "baxis": {
             "endlinecolor": "#2a3f5f",
             "gridcolor": "white",
             "linecolor": "white",
             "minorgridcolor": "white",
             "startlinecolor": "#2a3f5f"
            },
            "type": "carpet"
           }
          ],
          "choropleth": [
           {
            "colorbar": {
             "outlinewidth": 0,
             "ticks": ""
            },
            "type": "choropleth"
           }
          ],
          "contour": [
           {
            "colorbar": {
             "outlinewidth": 0,
             "ticks": ""
            },
            "colorscale": [
             [
              0,
              "#0d0887"
             ],
             [
              0.1111111111111111,
              "#46039f"
             ],
             [
              0.2222222222222222,
              "#7201a8"
             ],
             [
              0.3333333333333333,
              "#9c179e"
             ],
             [
              0.4444444444444444,
              "#bd3786"
             ],
             [
              0.5555555555555556,
              "#d8576b"
             ],
             [
              0.6666666666666666,
              "#ed7953"
             ],
             [
              0.7777777777777778,
              "#fb9f3a"
             ],
             [
              0.8888888888888888,
              "#fdca26"
             ],
             [
              1,
              "#f0f921"
             ]
            ],
            "type": "contour"
           }
          ],
          "contourcarpet": [
           {
            "colorbar": {
             "outlinewidth": 0,
             "ticks": ""
            },
            "type": "contourcarpet"
           }
          ],
          "heatmap": [
           {
            "colorbar": {
             "outlinewidth": 0,
             "ticks": ""
            },
            "colorscale": [
             [
              0,
              "#0d0887"
             ],
             [
              0.1111111111111111,
              "#46039f"
             ],
             [
              0.2222222222222222,
              "#7201a8"
             ],
             [
              0.3333333333333333,
              "#9c179e"
             ],
             [
              0.4444444444444444,
              "#bd3786"
             ],
             [
              0.5555555555555556,
              "#d8576b"
             ],
             [
              0.6666666666666666,
              "#ed7953"
             ],
             [
              0.7777777777777778,
              "#fb9f3a"
             ],
             [
              0.8888888888888888,
              "#fdca26"
             ],
             [
              1,
              "#f0f921"
             ]
            ],
            "type": "heatmap"
           }
          ],
          "heatmapgl": [
           {
            "colorbar": {
             "outlinewidth": 0,
             "ticks": ""
            },
            "colorscale": [
             [
              0,
              "#0d0887"
             ],
             [
              0.1111111111111111,
              "#46039f"
             ],
             [
              0.2222222222222222,
              "#7201a8"
             ],
             [
              0.3333333333333333,
              "#9c179e"
             ],
             [
              0.4444444444444444,
              "#bd3786"
             ],
             [
              0.5555555555555556,
              "#d8576b"
             ],
             [
              0.6666666666666666,
              "#ed7953"
             ],
             [
              0.7777777777777778,
              "#fb9f3a"
             ],
             [
              0.8888888888888888,
              "#fdca26"
             ],
             [
              1,
              "#f0f921"
             ]
            ],
            "type": "heatmapgl"
           }
          ],
          "histogram": [
           {
            "marker": {
             "pattern": {
              "fillmode": "overlay",
              "size": 10,
              "solidity": 0.2
             }
            },
            "type": "histogram"
           }
          ],
          "histogram2d": [
           {
            "colorbar": {
             "outlinewidth": 0,
             "ticks": ""
            },
            "colorscale": [
             [
              0,
              "#0d0887"
             ],
             [
              0.1111111111111111,
              "#46039f"
             ],
             [
              0.2222222222222222,
              "#7201a8"
             ],
             [
              0.3333333333333333,
              "#9c179e"
             ],
             [
              0.4444444444444444,
              "#bd3786"
             ],
             [
              0.5555555555555556,
              "#d8576b"
             ],
             [
              0.6666666666666666,
              "#ed7953"
             ],
             [
              0.7777777777777778,
              "#fb9f3a"
             ],
             [
              0.8888888888888888,
              "#fdca26"
             ],
             [
              1,
              "#f0f921"
             ]
            ],
            "type": "histogram2d"
           }
          ],
          "histogram2dcontour": [
           {
            "colorbar": {
             "outlinewidth": 0,
             "ticks": ""
            },
            "colorscale": [
             [
              0,
              "#0d0887"
             ],
             [
              0.1111111111111111,
              "#46039f"
             ],
             [
              0.2222222222222222,
              "#7201a8"
             ],
             [
              0.3333333333333333,
              "#9c179e"
             ],
             [
              0.4444444444444444,
              "#bd3786"
             ],
             [
              0.5555555555555556,
              "#d8576b"
             ],
             [
              0.6666666666666666,
              "#ed7953"
             ],
             [
              0.7777777777777778,
              "#fb9f3a"
             ],
             [
              0.8888888888888888,
              "#fdca26"
             ],
             [
              1,
              "#f0f921"
             ]
            ],
            "type": "histogram2dcontour"
           }
          ],
          "mesh3d": [
           {
            "colorbar": {
             "outlinewidth": 0,
             "ticks": ""
            },
            "type": "mesh3d"
           }
          ],
          "parcoords": [
           {
            "line": {
             "colorbar": {
              "outlinewidth": 0,
              "ticks": ""
             }
            },
            "type": "parcoords"
           }
          ],
          "pie": [
           {
            "automargin": true,
            "type": "pie"
           }
          ],
          "scatter": [
           {
            "marker": {
             "colorbar": {
              "outlinewidth": 0,
              "ticks": ""
             }
            },
            "type": "scatter"
           }
          ],
          "scatter3d": [
           {
            "line": {
             "colorbar": {
              "outlinewidth": 0,
              "ticks": ""
             }
            },
            "marker": {
             "colorbar": {
              "outlinewidth": 0,
              "ticks": ""
             }
            },
            "type": "scatter3d"
           }
          ],
          "scattercarpet": [
           {
            "marker": {
             "colorbar": {
              "outlinewidth": 0,
              "ticks": ""
             }
            },
            "type": "scattercarpet"
           }
          ],
          "scattergeo": [
           {
            "marker": {
             "colorbar": {
              "outlinewidth": 0,
              "ticks": ""
             }
            },
            "type": "scattergeo"
           }
          ],
          "scattergl": [
           {
            "marker": {
             "colorbar": {
              "outlinewidth": 0,
              "ticks": ""
             }
            },
            "type": "scattergl"
           }
          ],
          "scattermapbox": [
           {
            "marker": {
             "colorbar": {
              "outlinewidth": 0,
              "ticks": ""
             }
            },
            "type": "scattermapbox"
           }
          ],
          "scatterpolar": [
           {
            "marker": {
             "colorbar": {
              "outlinewidth": 0,
              "ticks": ""
             }
            },
            "type": "scatterpolar"
           }
          ],
          "scatterpolargl": [
           {
            "marker": {
             "colorbar": {
              "outlinewidth": 0,
              "ticks": ""
             }
            },
            "type": "scatterpolargl"
           }
          ],
          "scatterternary": [
           {
            "marker": {
             "colorbar": {
              "outlinewidth": 0,
              "ticks": ""
             }
            },
            "type": "scatterternary"
           }
          ],
          "surface": [
           {
            "colorbar": {
             "outlinewidth": 0,
             "ticks": ""
            },
            "colorscale": [
             [
              0,
              "#0d0887"
             ],
             [
              0.1111111111111111,
              "#46039f"
             ],
             [
              0.2222222222222222,
              "#7201a8"
             ],
             [
              0.3333333333333333,
              "#9c179e"
             ],
             [
              0.4444444444444444,
              "#bd3786"
             ],
             [
              0.5555555555555556,
              "#d8576b"
             ],
             [
              0.6666666666666666,
              "#ed7953"
             ],
             [
              0.7777777777777778,
              "#fb9f3a"
             ],
             [
              0.8888888888888888,
              "#fdca26"
             ],
             [
              1,
              "#f0f921"
             ]
            ],
            "type": "surface"
           }
          ],
          "table": [
           {
            "cells": {
             "fill": {
              "color": "#EBF0F8"
             },
             "line": {
              "color": "white"
             }
            },
            "header": {
             "fill": {
              "color": "#C8D4E3"
             },
             "line": {
              "color": "white"
             }
            },
            "type": "table"
           }
          ]
         },
         "layout": {
          "annotationdefaults": {
           "arrowcolor": "#2a3f5f",
           "arrowhead": 0,
           "arrowwidth": 1
          },
          "autotypenumbers": "strict",
          "coloraxis": {
           "colorbar": {
            "outlinewidth": 0,
            "ticks": ""
           }
          },
          "colorscale": {
           "diverging": [
            [
             0,
             "#8e0152"
            ],
            [
             0.1,
             "#c51b7d"
            ],
            [
             0.2,
             "#de77ae"
            ],
            [
             0.3,
             "#f1b6da"
            ],
            [
             0.4,
             "#fde0ef"
            ],
            [
             0.5,
             "#f7f7f7"
            ],
            [
             0.6,
             "#e6f5d0"
            ],
            [
             0.7,
             "#b8e186"
            ],
            [
             0.8,
             "#7fbc41"
            ],
            [
             0.9,
             "#4d9221"
            ],
            [
             1,
             "#276419"
            ]
           ],
           "sequential": [
            [
             0,
             "#0d0887"
            ],
            [
             0.1111111111111111,
             "#46039f"
            ],
            [
             0.2222222222222222,
             "#7201a8"
            ],
            [
             0.3333333333333333,
             "#9c179e"
            ],
            [
             0.4444444444444444,
             "#bd3786"
            ],
            [
             0.5555555555555556,
             "#d8576b"
            ],
            [
             0.6666666666666666,
             "#ed7953"
            ],
            [
             0.7777777777777778,
             "#fb9f3a"
            ],
            [
             0.8888888888888888,
             "#fdca26"
            ],
            [
             1,
             "#f0f921"
            ]
           ],
           "sequentialminus": [
            [
             0,
             "#0d0887"
            ],
            [
             0.1111111111111111,
             "#46039f"
            ],
            [
             0.2222222222222222,
             "#7201a8"
            ],
            [
             0.3333333333333333,
             "#9c179e"
            ],
            [
             0.4444444444444444,
             "#bd3786"
            ],
            [
             0.5555555555555556,
             "#d8576b"
            ],
            [
             0.6666666666666666,
             "#ed7953"
            ],
            [
             0.7777777777777778,
             "#fb9f3a"
            ],
            [
             0.8888888888888888,
             "#fdca26"
            ],
            [
             1,
             "#f0f921"
            ]
           ]
          },
          "colorway": [
           "#636efa",
           "#EF553B",
           "#00cc96",
           "#ab63fa",
           "#FFA15A",
           "#19d3f3",
           "#FF6692",
           "#B6E880",
           "#FF97FF",
           "#FECB52"
          ],
          "font": {
           "color": "#2a3f5f"
          },
          "geo": {
           "bgcolor": "white",
           "lakecolor": "white",
           "landcolor": "#E5ECF6",
           "showlakes": true,
           "showland": true,
           "subunitcolor": "white"
          },
          "hoverlabel": {
           "align": "left"
          },
          "hovermode": "closest",
          "mapbox": {
           "style": "light"
          },
          "paper_bgcolor": "white",
          "plot_bgcolor": "#E5ECF6",
          "polar": {
           "angularaxis": {
            "gridcolor": "white",
            "linecolor": "white",
            "ticks": ""
           },
           "bgcolor": "#E5ECF6",
           "radialaxis": {
            "gridcolor": "white",
            "linecolor": "white",
            "ticks": ""
           }
          },
          "scene": {
           "xaxis": {
            "backgroundcolor": "#E5ECF6",
            "gridcolor": "white",
            "gridwidth": 2,
            "linecolor": "white",
            "showbackground": true,
            "ticks": "",
            "zerolinecolor": "white"
           },
           "yaxis": {
            "backgroundcolor": "#E5ECF6",
            "gridcolor": "white",
            "gridwidth": 2,
            "linecolor": "white",
            "showbackground": true,
            "ticks": "",
            "zerolinecolor": "white"
           },
           "zaxis": {
            "backgroundcolor": "#E5ECF6",
            "gridcolor": "white",
            "gridwidth": 2,
            "linecolor": "white",
            "showbackground": true,
            "ticks": "",
            "zerolinecolor": "white"
           }
          },
          "shapedefaults": {
           "line": {
            "color": "#2a3f5f"
           }
          },
          "ternary": {
           "aaxis": {
            "gridcolor": "white",
            "linecolor": "white",
            "ticks": ""
           },
           "baxis": {
            "gridcolor": "white",
            "linecolor": "white",
            "ticks": ""
           },
           "bgcolor": "#E5ECF6",
           "caxis": {
            "gridcolor": "white",
            "linecolor": "white",
            "ticks": ""
           }
          },
          "title": {
           "x": 0.05
          },
          "xaxis": {
           "automargin": true,
           "gridcolor": "white",
           "linecolor": "white",
           "ticks": "",
           "title": {
            "standoff": 15
           },
           "zerolinecolor": "white",
           "zerolinewidth": 2
          },
          "yaxis": {
           "automargin": true,
           "gridcolor": "white",
           "linecolor": "white",
           "ticks": "",
           "title": {
            "standoff": 15
           },
           "zerolinecolor": "white",
           "zerolinewidth": 2
          }
         }
        },
        "title": {
         "font": {
          "color": "red",
          "family": "Times New Roman"
         },
         "text": "2D view of Pressure in the grid",
         "x": 0.5
        },
        "width": 900,
        "xaxis": {
         "title": {
          "font": {
           "family": "Arial"
          }
         }
        }
       }
      },
      "text/html": [
       "<div>                            <div id=\"2439c87d-5c92-4b93-8a1e-51505d137bbb\" class=\"plotly-graph-div\" style=\"height:800px; width:900px;\"></div>            <script type=\"text/javascript\">                require([\"plotly\"], function(Plotly) {                    window.PLOTLYENV=window.PLOTLYENV || {};                                    if (document.getElementById(\"2439c87d-5c92-4b93-8a1e-51505d137bbb\")) {                    Plotly.newPlot(                        \"2439c87d-5c92-4b93-8a1e-51505d137bbb\",                        [{\"colorscale\":[[0.0,\"rgb(103,0,31)\"],[0.1,\"rgb(178,24,43)\"],[0.2,\"rgb(214,96,77)\"],[0.3,\"rgb(244,165,130)\"],[0.4,\"rgb(253,219,199)\"],[0.5,\"rgb(247,247,247)\"],[0.6,\"rgb(209,229,240)\"],[0.7,\"rgb(146,197,222)\"],[0.8,\"rgb(67,147,195)\"],[0.9,\"rgb(33,102,172)\"],[1.0,\"rgb(5,48,97)\"]],\"reversescale\":true,\"x\":[[0.05,0.15,0.25,0.35,0.44999999999999996,0.5499999999999999,0.65,0.75,0.85,0.95],[0.05,0.15,0.25,0.35,0.44999999999999996,0.5499999999999999,0.65,0.75,0.85,0.95],[0.05,0.15,0.25,0.35,0.44999999999999996,0.5499999999999999,0.65,0.75,0.85,0.95],[0.05,0.15,0.25,0.35,0.44999999999999996,0.5499999999999999,0.65,0.75,0.85,0.95],[0.05,0.15,0.25,0.35,0.44999999999999996,0.5499999999999999,0.65,0.75,0.85,0.95],[0.05,0.15,0.25,0.35,0.44999999999999996,0.5499999999999999,0.65,0.75,0.85,0.95],[0.05,0.15,0.25,0.35,0.44999999999999996,0.5499999999999999,0.65,0.75,0.85,0.95],[0.05,0.15,0.25,0.35,0.44999999999999996,0.5499999999999999,0.65,0.75,0.85,0.95],[0.05,0.15,0.25,0.35,0.44999999999999996,0.5499999999999999,0.65,0.75,0.85,0.95],[0.05,0.15,0.25,0.35,0.44999999999999996,0.5499999999999999,0.65,0.75,0.85,0.95]],\"y\":[[0.05,0.05,0.05,0.05,0.05,0.05,0.05,0.05,0.05,0.05],[0.15,0.15,0.15,0.15,0.15,0.15,0.15,0.15,0.15,0.15],[0.25,0.25,0.25,0.25,0.25,0.25,0.25,0.25,0.25,0.25],[0.35,0.35,0.35,0.35,0.35,0.35,0.35,0.35,0.35,0.35],[0.44999999999999996,0.44999999999999996,0.44999999999999996,0.44999999999999996,0.44999999999999996,0.44999999999999996,0.44999999999999996,0.44999999999999996,0.44999999999999996,0.44999999999999996],[0.5499999999999999,0.5499999999999999,0.5499999999999999,0.5499999999999999,0.5499999999999999,0.5499999999999999,0.5499999999999999,0.5499999999999999,0.5499999999999999,0.5499999999999999],[0.65,0.65,0.65,0.65,0.65,0.65,0.65,0.65,0.65,0.65],[0.75,0.75,0.75,0.75,0.75,0.75,0.75,0.75,0.75,0.75],[0.85,0.85,0.85,0.85,0.85,0.85,0.85,0.85,0.85,0.85],[0.95,0.95,0.95,0.95,0.95,0.95,0.95,0.95,0.95,0.95]],\"z\":[[1.928260470920501,1.575352952605886,1.2553182262866462,1.1091596450636914,0.9816094064848917,0.8703235699369783,0.8355637375707516,0.8130269173236452,0.8059686518385555,0.8050385730219242],[1.6721858642734972,0.80471895621705,1.1047912689238435,1.0845194103622788,0.80471895621705,0.8342753556916237,0.8197752646510003,0.8096721811534144,0.8054607496874511,0.8043735799500535],[1.259282997444147,1.0463611974450786,1.011831960331146,0.80471895621705,0.8136298470458065,0.8133847026845654,0.8099918291716949,0.8060978887599941,0.8022200115859784,0.8010567239036063],[0.9874629196172269,0.9337340216870452,0.9074349512896558,0.8405742662793799,0.8194106282019513,0.8104116024107002,0.8071979162077343,0.80282800104782,0.7967917192415449,0.7934802436616147],[0.8775482629909584,0.8663262895079493,0.80471895621705,0.8243715270678955,0.8172411096468772,0.8063619399428562,0.802142310769681,0.798428966042924,0.7832409102242668,0.7767683823798825],[0.8396665681884292,0.8359438700032611,0.8194805716702743,0.8135229383944609,0.80471895621705,0.7955084676091462,0.792318651482537,0.80471895621705,0.7512393992835673,0.7451388530884607],[0.8211743951634646,0.8209566166605925,0.80471895621705,0.8039662823119698,0.7958963480934977,0.7890084874169812,0.7760692601901379,0.7346482808518765,0.7166997040768195,0.6890013893073779],[0.8139823932396932,0.8127061107237399,0.8066247992384845,0.800645555656079,0.789119531114012,0.7820424367885199,0.7609835804888408,0.6733211735798563,0.6098457554005451,0.5341798164215174],[0.8102445816013116,0.8066709351320998,0.8007286157142438,0.7954504734638241,0.783986759998559,0.7727507504423562,0.80471895621705,0.5457283746884054,0.4570510864363261,0.35817950542541055],[0.8064159925340018,0.80471895621705,0.7931949278913418,0.7847387043561549,0.7652422500320514,0.7263666849381062,0.6578438451759843,0.5533650675688314,0.37575377845301716,0.06184067094889319]],\"type\":\"surface\"}],                        {\"template\":{\"data\":{\"bar\":[{\"error_x\":{\"color\":\"#2a3f5f\"},\"error_y\":{\"color\":\"#2a3f5f\"},\"marker\":{\"line\":{\"color\":\"#E5ECF6\",\"width\":0.5},\"pattern\":{\"fillmode\":\"overlay\",\"size\":10,\"solidity\":0.2}},\"type\":\"bar\"}],\"barpolar\":[{\"marker\":{\"line\":{\"color\":\"#E5ECF6\",\"width\":0.5},\"pattern\":{\"fillmode\":\"overlay\",\"size\":10,\"solidity\":0.2}},\"type\":\"barpolar\"}],\"carpet\":[{\"aaxis\":{\"endlinecolor\":\"#2a3f5f\",\"gridcolor\":\"white\",\"linecolor\":\"white\",\"minorgridcolor\":\"white\",\"startlinecolor\":\"#2a3f5f\"},\"baxis\":{\"endlinecolor\":\"#2a3f5f\",\"gridcolor\":\"white\",\"linecolor\":\"white\",\"minorgridcolor\":\"white\",\"startlinecolor\":\"#2a3f5f\"},\"type\":\"carpet\"}],\"choropleth\":[{\"colorbar\":{\"outlinewidth\":0,\"ticks\":\"\"},\"type\":\"choropleth\"}],\"contour\":[{\"colorbar\":{\"outlinewidth\":0,\"ticks\":\"\"},\"colorscale\":[[0.0,\"#0d0887\"],[0.1111111111111111,\"#46039f\"],[0.2222222222222222,\"#7201a8\"],[0.3333333333333333,\"#9c179e\"],[0.4444444444444444,\"#bd3786\"],[0.5555555555555556,\"#d8576b\"],[0.6666666666666666,\"#ed7953\"],[0.7777777777777778,\"#fb9f3a\"],[0.8888888888888888,\"#fdca26\"],[1.0,\"#f0f921\"]],\"type\":\"contour\"}],\"contourcarpet\":[{\"colorbar\":{\"outlinewidth\":0,\"ticks\":\"\"},\"type\":\"contourcarpet\"}],\"heatmap\":[{\"colorbar\":{\"outlinewidth\":0,\"ticks\":\"\"},\"colorscale\":[[0.0,\"#0d0887\"],[0.1111111111111111,\"#46039f\"],[0.2222222222222222,\"#7201a8\"],[0.3333333333333333,\"#9c179e\"],[0.4444444444444444,\"#bd3786\"],[0.5555555555555556,\"#d8576b\"],[0.6666666666666666,\"#ed7953\"],[0.7777777777777778,\"#fb9f3a\"],[0.8888888888888888,\"#fdca26\"],[1.0,\"#f0f921\"]],\"type\":\"heatmap\"}],\"heatmapgl\":[{\"colorbar\":{\"outlinewidth\":0,\"ticks\":\"\"},\"colorscale\":[[0.0,\"#0d0887\"],[0.1111111111111111,\"#46039f\"],[0.2222222222222222,\"#7201a8\"],[0.3333333333333333,\"#9c179e\"],[0.4444444444444444,\"#bd3786\"],[0.5555555555555556,\"#d8576b\"],[0.6666666666666666,\"#ed7953\"],[0.7777777777777778,\"#fb9f3a\"],[0.8888888888888888,\"#fdca26\"],[1.0,\"#f0f921\"]],\"type\":\"heatmapgl\"}],\"histogram\":[{\"marker\":{\"pattern\":{\"fillmode\":\"overlay\",\"size\":10,\"solidity\":0.2}},\"type\":\"histogram\"}],\"histogram2d\":[{\"colorbar\":{\"outlinewidth\":0,\"ticks\":\"\"},\"colorscale\":[[0.0,\"#0d0887\"],[0.1111111111111111,\"#46039f\"],[0.2222222222222222,\"#7201a8\"],[0.3333333333333333,\"#9c179e\"],[0.4444444444444444,\"#bd3786\"],[0.5555555555555556,\"#d8576b\"],[0.6666666666666666,\"#ed7953\"],[0.7777777777777778,\"#fb9f3a\"],[0.8888888888888888,\"#fdca26\"],[1.0,\"#f0f921\"]],\"type\":\"histogram2d\"}],\"histogram2dcontour\":[{\"colorbar\":{\"outlinewidth\":0,\"ticks\":\"\"},\"colorscale\":[[0.0,\"#0d0887\"],[0.1111111111111111,\"#46039f\"],[0.2222222222222222,\"#7201a8\"],[0.3333333333333333,\"#9c179e\"],[0.4444444444444444,\"#bd3786\"],[0.5555555555555556,\"#d8576b\"],[0.6666666666666666,\"#ed7953\"],[0.7777777777777778,\"#fb9f3a\"],[0.8888888888888888,\"#fdca26\"],[1.0,\"#f0f921\"]],\"type\":\"histogram2dcontour\"}],\"mesh3d\":[{\"colorbar\":{\"outlinewidth\":0,\"ticks\":\"\"},\"type\":\"mesh3d\"}],\"parcoords\":[{\"line\":{\"colorbar\":{\"outlinewidth\":0,\"ticks\":\"\"}},\"type\":\"parcoords\"}],\"pie\":[{\"automargin\":true,\"type\":\"pie\"}],\"scatter\":[{\"marker\":{\"colorbar\":{\"outlinewidth\":0,\"ticks\":\"\"}},\"type\":\"scatter\"}],\"scatter3d\":[{\"line\":{\"colorbar\":{\"outlinewidth\":0,\"ticks\":\"\"}},\"marker\":{\"colorbar\":{\"outlinewidth\":0,\"ticks\":\"\"}},\"type\":\"scatter3d\"}],\"scattercarpet\":[{\"marker\":{\"colorbar\":{\"outlinewidth\":0,\"ticks\":\"\"}},\"type\":\"scattercarpet\"}],\"scattergeo\":[{\"marker\":{\"colorbar\":{\"outlinewidth\":0,\"ticks\":\"\"}},\"type\":\"scattergeo\"}],\"scattergl\":[{\"marker\":{\"colorbar\":{\"outlinewidth\":0,\"ticks\":\"\"}},\"type\":\"scattergl\"}],\"scattermapbox\":[{\"marker\":{\"colorbar\":{\"outlinewidth\":0,\"ticks\":\"\"}},\"type\":\"scattermapbox\"}],\"scatterpolar\":[{\"marker\":{\"colorbar\":{\"outlinewidth\":0,\"ticks\":\"\"}},\"type\":\"scatterpolar\"}],\"scatterpolargl\":[{\"marker\":{\"colorbar\":{\"outlinewidth\":0,\"ticks\":\"\"}},\"type\":\"scatterpolargl\"}],\"scatterternary\":[{\"marker\":{\"colorbar\":{\"outlinewidth\":0,\"ticks\":\"\"}},\"type\":\"scatterternary\"}],\"surface\":[{\"colorbar\":{\"outlinewidth\":0,\"ticks\":\"\"},\"colorscale\":[[0.0,\"#0d0887\"],[0.1111111111111111,\"#46039f\"],[0.2222222222222222,\"#7201a8\"],[0.3333333333333333,\"#9c179e\"],[0.4444444444444444,\"#bd3786\"],[0.5555555555555556,\"#d8576b\"],[0.6666666666666666,\"#ed7953\"],[0.7777777777777778,\"#fb9f3a\"],[0.8888888888888888,\"#fdca26\"],[1.0,\"#f0f921\"]],\"type\":\"surface\"}],\"table\":[{\"cells\":{\"fill\":{\"color\":\"#EBF0F8\"},\"line\":{\"color\":\"white\"}},\"header\":{\"fill\":{\"color\":\"#C8D4E3\"},\"line\":{\"color\":\"white\"}},\"type\":\"table\"}]},\"layout\":{\"annotationdefaults\":{\"arrowcolor\":\"#2a3f5f\",\"arrowhead\":0,\"arrowwidth\":1},\"autotypenumbers\":\"strict\",\"coloraxis\":{\"colorbar\":{\"outlinewidth\":0,\"ticks\":\"\"}},\"colorscale\":{\"diverging\":[[0,\"#8e0152\"],[0.1,\"#c51b7d\"],[0.2,\"#de77ae\"],[0.3,\"#f1b6da\"],[0.4,\"#fde0ef\"],[0.5,\"#f7f7f7\"],[0.6,\"#e6f5d0\"],[0.7,\"#b8e186\"],[0.8,\"#7fbc41\"],[0.9,\"#4d9221\"],[1,\"#276419\"]],\"sequential\":[[0.0,\"#0d0887\"],[0.1111111111111111,\"#46039f\"],[0.2222222222222222,\"#7201a8\"],[0.3333333333333333,\"#9c179e\"],[0.4444444444444444,\"#bd3786\"],[0.5555555555555556,\"#d8576b\"],[0.6666666666666666,\"#ed7953\"],[0.7777777777777778,\"#fb9f3a\"],[0.8888888888888888,\"#fdca26\"],[1.0,\"#f0f921\"]],\"sequentialminus\":[[0.0,\"#0d0887\"],[0.1111111111111111,\"#46039f\"],[0.2222222222222222,\"#7201a8\"],[0.3333333333333333,\"#9c179e\"],[0.4444444444444444,\"#bd3786\"],[0.5555555555555556,\"#d8576b\"],[0.6666666666666666,\"#ed7953\"],[0.7777777777777778,\"#fb9f3a\"],[0.8888888888888888,\"#fdca26\"],[1.0,\"#f0f921\"]]},\"colorway\":[\"#636efa\",\"#EF553B\",\"#00cc96\",\"#ab63fa\",\"#FFA15A\",\"#19d3f3\",\"#FF6692\",\"#B6E880\",\"#FF97FF\",\"#FECB52\"],\"font\":{\"color\":\"#2a3f5f\"},\"geo\":{\"bgcolor\":\"white\",\"lakecolor\":\"white\",\"landcolor\":\"#E5ECF6\",\"showlakes\":true,\"showland\":true,\"subunitcolor\":\"white\"},\"hoverlabel\":{\"align\":\"left\"},\"hovermode\":\"closest\",\"mapbox\":{\"style\":\"light\"},\"paper_bgcolor\":\"white\",\"plot_bgcolor\":\"#E5ECF6\",\"polar\":{\"angularaxis\":{\"gridcolor\":\"white\",\"linecolor\":\"white\",\"ticks\":\"\"},\"bgcolor\":\"#E5ECF6\",\"radialaxis\":{\"gridcolor\":\"white\",\"linecolor\":\"white\",\"ticks\":\"\"}},\"scene\":{\"xaxis\":{\"backgroundcolor\":\"#E5ECF6\",\"gridcolor\":\"white\",\"gridwidth\":2,\"linecolor\":\"white\",\"showbackground\":true,\"ticks\":\"\",\"zerolinecolor\":\"white\"},\"yaxis\":{\"backgroundcolor\":\"#E5ECF6\",\"gridcolor\":\"white\",\"gridwidth\":2,\"linecolor\":\"white\",\"showbackground\":true,\"ticks\":\"\",\"zerolinecolor\":\"white\"},\"zaxis\":{\"backgroundcolor\":\"#E5ECF6\",\"gridcolor\":\"white\",\"gridwidth\":2,\"linecolor\":\"white\",\"showbackground\":true,\"ticks\":\"\",\"zerolinecolor\":\"white\"}},\"shapedefaults\":{\"line\":{\"color\":\"#2a3f5f\"}},\"ternary\":{\"aaxis\":{\"gridcolor\":\"white\",\"linecolor\":\"white\",\"ticks\":\"\"},\"baxis\":{\"gridcolor\":\"white\",\"linecolor\":\"white\",\"ticks\":\"\"},\"bgcolor\":\"#E5ECF6\",\"caxis\":{\"gridcolor\":\"white\",\"linecolor\":\"white\",\"ticks\":\"\"}},\"title\":{\"x\":0.05},\"xaxis\":{\"automargin\":true,\"gridcolor\":\"white\",\"linecolor\":\"white\",\"ticks\":\"\",\"title\":{\"standoff\":15},\"zerolinecolor\":\"white\",\"zerolinewidth\":2},\"yaxis\":{\"automargin\":true,\"gridcolor\":\"white\",\"linecolor\":\"white\",\"ticks\":\"\",\"title\":{\"standoff\":15},\"zerolinecolor\":\"white\",\"zerolinewidth\":2}}},\"margin\":{\"l\":65,\"r\":50,\"b\":65,\"t\":90},\"title\":{\"text\":\"2D view of Pressure in the grid\",\"font\":{\"family\":\"Times New Roman\",\"color\":\"red\"},\"x\":0.5},\"autosize\":true,\"height\":800,\"xaxis\":{\"title\":{\"font\":{\"family\":\"Arial\"}}},\"font\":{\"family\":\"Courier New, monospace\",\"color\":\"black\",\"size\":15},\"legend\":{\"title\":{\"font\":{\"color\":\"green\"}}},\"width\":900,\"scene\":{\"xaxis\":{\"title\":{\"text\":\"X-coordinates [m]\"},\"nticks\":10},\"yaxis\":{\"title\":{\"text\":\"Y-coordinates [m]\"}},\"zaxis\":{\"title\":{\"text\":\"Pressure\"},\"nticks\":5},\"aspectratio\":{\"x\":1,\"y\":1,\"z\":1}}},                        {\"responsive\": true}                    ).then(function(){\n",
       "                            \n",
       "var gd = document.getElementById('2439c87d-5c92-4b93-8a1e-51505d137bbb');\n",
       "var x = new MutationObserver(function (mutations, observer) {{\n",
       "        var display = window.getComputedStyle(gd).display;\n",
       "        if (!display || display === 'none') {{\n",
       "            console.log([gd, 'removed!']);\n",
       "            Plotly.purge(gd);\n",
       "            observer.disconnect();\n",
       "        }}\n",
       "}});\n",
       "\n",
       "// Listen for the removal of the full notebook cells\n",
       "var notebookContainer = gd.closest('#notebook-container');\n",
       "if (notebookContainer) {{\n",
       "    x.observe(notebookContainer, {childList: true});\n",
       "}}\n",
       "\n",
       "// Listen for the clearing of the current output cell\n",
       "var outputEl = gd.closest('.output');\n",
       "if (outputEl) {{\n",
       "    x.observe(outputEl, {childList: true});\n",
       "}}\n",
       "\n",
       "                        })                };                });            </script>        </div>"
      ]
     },
     "metadata": {},
     "output_type": "display_data"
    }
   ],
   "source": [
    "# define the dimensions of the system\n",
    "Lx = 1.0 # length of the system\n",
    "dz = 1.0\n",
    "Ly = 1.0\n",
    "Ny = 10 # number of cells Y\n",
    "Nx = 10  # number of cells X\n",
    "\n",
    "cf = 1 # compressibility of the fluid \n",
    "cr = 1 #compressibility of the rock\n",
    "P_0 = 0  # initial pressure\n",
    "rho_0 = 1 # initial density of the fluid \n",
    "phi_0 = 0.2 # initial rock porosity\n",
    "\n",
    "Well = {\"Cell\": np.array([[ 0, Ny-1 ],\n",
    "                          [ 0, Nx-1 ]]),\n",
    "        \"WI\": [1000, 1000],\n",
    "        \"Pwell\": [2,0]}\n",
    "\n",
    "\n",
    "#discretization in time and space\n",
    "dy = Ly / Ny\n",
    "dx = Lx / Nx                             # Length of each grid-cell\n",
    "\n",
    "dAy = dx * dz\n",
    "dAx = dy * dz                            # Cross-sectional area\n",
    "\n",
    "dV = dy * dx * dz                        # Volume of each grid cell\n",
    "\n",
    "xc = np.linspace( dx/2 , Lx-dx/2 , Nx   )  # Coordinates of cell centers   in x direction [m]\n",
    "xi = np.linspace( 0    , Lx      , Nx+1 )  # Coordinates of cell interface in x direction [m]\n",
    "\n",
    "yc = np.linspace( dy/2 , Ly-dy/2 , Ny   )  # Coordinates of cell centers   in y direction [m]\n",
    "yi = np.linspace( 0    , Ly      , Ny+1 )  # Coordinates of cell interface in y direction [m]\n",
    "\n",
    "# Mobility\n",
    "# Lambda = np.ones((Nx,Ny))\n",
    "# Lambda[4:6,:]=0.001\n",
    "# Lambda = np.reshape(Lambda,(Nx*Ny)) \n",
    "Lambda = np.random.randint(low=0.1, high=10, size=(Nx*Ny))\n",
    "\n",
    "\n",
    "\n",
    "Nt = 1000                            # Number of time-steps\n",
    "dt = 1e-5                           # Size of the time-step\n",
    "maxIter = 50   #maximum iteration\n",
    "\n",
    "\n",
    "# Initialize the system \n",
    "p = P_0 * np.ones(Nx*Ny)               # initial pressure in all cells\n",
    "rho,drhodp = ComputeDensity2D(rho_0,cf,p,P_0)\n",
    "phi,dphidp = ComputePorosity2D(rho_0,cr,p,P_0)\n",
    "Ty, Tx = ComputeTransmissibility2D(Nx,Ny,dx,dy,dAx,dAy,Lambda,rho)\n",
    "A = ConstructA2D(Nx,Ny,Ty,Tx)\n",
    "q = ComputeWellFluxes2D(Ny, Nx , Well,Lambda, dV, p)\n",
    "\n",
    "\n",
    " \n",
    " \n",
    "##Entering the time loop\n",
    "\n",
    "for t in range(0,Nt):\n",
    "    Converged = 0\n",
    "    Iter = 0\n",
    "    rho_n = rho\n",
    "    phi_n = phi\n",
    "    \n",
    "    # Entering iteration loop\n",
    "    while Converged == 0 :#and Iter < maxIter:\n",
    "        Iter = Iter + 1\n",
    "        \n",
    "        # Computing the compressibility (Psi)\n",
    "        Psi = (dV/dt) * (rho*phi - rho_n*phi_n)\n",
    "        \n",
    "        ## Compute residual (q,Psi,Ap)\n",
    "        Residual = rho*q - Psi - A@p\n",
    "        \n",
    "        ## Compute Jacobian (W,C,A)\n",
    "        \n",
    "        # W = d(rho.q)/dp = [dq/dp*rho] + [q*drho/dp]\n",
    "        # For now, we neglect [q*drho/dp] !!!\n",
    "        drho_q_dp = np.zeros(Nx*Ny)\n",
    "        for w in range(len(Well[\"Pwell\"])):\n",
    "            j = Well[\"Cell\"][0,w]\n",
    "            i = Well[\"Cell\"][1,w]\n",
    "            I= Index2D(Nx, Ny, j, i)            \n",
    "            drho_q_dp[I] = - rho[I] * Well[\"WI\"][w] * Lambda[I] * dV\n",
    "        W = np.diag(drho_q_dp)\n",
    "        \n",
    "        # C = d(Psi)/dp\n",
    "        d_Psi_dp = (dV/dt) * ( drhodp*phi + rho*dphidp )\n",
    "        C = np.diag(d_Psi_dp)\n",
    "        \n",
    "        Jacobian = W - C - A\n",
    "        \n",
    "        # Solve the linearized system (delta_p = J\\-R)\n",
    "        delta_p = np.linalg.solve(Jacobian,-Residual)\n",
    "        # Update the pressure (p_new = p_old + delta_p)\n",
    "        p = p + delta_p\n",
    "        \n",
    "        # Update the entire system\n",
    "        rho,drhodp = ComputeDensity2D(rho_0,cf,p,P_0)\n",
    "        phi,dphidp = ComputePorosity2D(phi_0,cr,p,P_0)\n",
    "        Ty,Tx = ComputeTransmissibility2D(Nx,Ny,dx,dy,dAx,dAy,Lambda,rho)\n",
    "        A = ConstructA2D(Nx,Ny,Ty,Tx)\n",
    "        q = ComputeWellFluxes2D(Ny, Nx , Well,Lambda, dV, p)\n",
    "        \n",
    "        # Re-compute residual\n",
    "        Psi = (dV/dt) * (rho*phi - rho_n*phi_n)\n",
    "        Residual = rho*q - Psi - A@p\n",
    "        \n",
    "        \n",
    "        # if convergence has happened -> out of the iteration loop\n",
    "        # if not, go up and do all this again\n",
    "        if np.linalg.norm(Residual) < 1e-6:\n",
    "            Converged = 1\n",
    "            \n",
    "    # end of iteration loop\n",
    "    \n",
    "    # print('Time-step', t, ', # of iterations:', Iter)\n",
    "# end of time loop\n",
    "        \n",
    "X,Y = np.meshgrid(xc,yc)\n",
    "z_P = np.reshape(p,(Nx,Ny))\n",
    "import plotly.graph_objects as go\n",
    "fig = go.Figure(data=[go.Surface(z=z_P,x=X,y=Y,colorscale ='RdBu',reversescale=True)])\n",
    "fig.update_layout(title='2D view of Pressure in the grid', autosize=True,\n",
    "                   height=1000,\n",
    "                  margin=dict(l=65, r=50, b=65, t=90))\n",
    "fig.update_xaxes(title_font_family=\"Arial\")\n",
    "fig.update_layout(\n",
    "    font_family=\"Courier New\",\n",
    "    font_color=\"blue\",\n",
    "    title_font_family=\"Times New Roman\",\n",
    "    title_font_color=\"red\",\n",
    "    legend_title_font_color=\"green\"\n",
    ")\n",
    "fig.update_xaxes(title_font_family=\"Arial\")\n",
    "fig.update_layout(width=900, height=800,autosize=True,font=dict(\n",
    "        family=\"Courier New, monospace\",\n",
    "        size=15,\n",
    "        color=\"black\"\n",
    "    ), title_x=0.5,    scene=dict(\n",
    "        xaxis_title='X-coordinates [m]',\n",
    "        yaxis_title='Y-coordinates [m]',\n",
    "        zaxis_title='Pressure',))\n",
    "fig.update_layout(\n",
    "        scene = {\n",
    "            \"xaxis\": {\"nticks\": 10},\n",
    "            \"zaxis\": {\"nticks\": 5},\n",
    "#             'camera_eye': {\"x\": 0, \"y\": -1, \"z\": 0.2},\n",
    "            \"aspectratio\": {\"x\": 1, \"y\": 1, \"z\": 1}\n",
    "        })\n",
    "fig.show()"
   ]
  },
  {
   "cell_type": "code",
   "execution_count": null,
   "id": "f84323ce",
   "metadata": {},
   "outputs": [],
   "source": [
    "Lambda"
   ]
  },
  {
   "cell_type": "code",
   "execution_count": null,
   "id": "7d0ac7ba",
   "metadata": {},
   "outputs": [],
   "source": [
    "Lambda = np.ones((Nx,Ny))\n",
    "Lambda[2:3,:]=0.001\n",
    "Lambda = np.reshape(Lambda,(Nx*Ny))"
   ]
  },
  {
   "cell_type": "code",
   "execution_count": null,
   "id": "9c79dab2",
   "metadata": {},
   "outputs": [],
   "source": [
    "Lambda"
   ]
  },
  {
   "cell_type": "code",
   "execution_count": null,
   "id": "6bb37d2c",
   "metadata": {},
   "outputs": [],
   "source": []
  }
 ],
 "metadata": {
  "kernelspec": {
   "display_name": "Python 3 (ipykernel)",
   "language": "python",
   "name": "python3"
  },
  "language_info": {
   "codemirror_mode": {
    "name": "ipython",
    "version": 3
   },
   "file_extension": ".py",
   "mimetype": "text/x-python",
   "name": "python",
   "nbconvert_exporter": "python",
   "pygments_lexer": "ipython3",
   "version": "3.9.7"
  }
 },
 "nbformat": 4,
 "nbformat_minor": 5
}
